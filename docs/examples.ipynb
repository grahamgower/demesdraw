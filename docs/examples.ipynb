{
 "cells": [
  {
   "cell_type": "markdown",
   "metadata": {},
   "source": [
    "# Examples"
   ]
  },
  {
   "cell_type": "code",
   "execution_count": null,
   "metadata": {
    "tags": [
     "hide-input"
    ]
   },
   "outputs": [],
   "source": [
    "import math\n",
    "import pathlib\n",
    "\n",
    "import demes\n",
    "import demesdraw\n",
    "import matplotlib.pyplot as plt\n",
    "\n",
    "# Output SVG.\n",
    "from IPython.display import set_matplotlib_formats\n",
    "set_matplotlib_formats(\"svg\")\n",
    "\n",
    "\n",
    "def choose_scales(graph: demes.Graph):\n",
    "    \"\"\"A heuristic to choose whether to use a log scale for time and size axes\"\"\"\n",
    "    times = []\n",
    "    sizes = []\n",
    "    for deme in graph.demes:\n",
    "        for epoch in deme.epochs:\n",
    "            sizes.extend([epoch.start_size, epoch.end_size])\n",
    "            if not math.isinf(epoch.start_time):\n",
    "                times.append(epoch.start_time)\n",
    "            if epoch.end_time > 0:\n",
    "                times.append(epoch.end_time)\n",
    "    if max(sizes) / min(sizes) > 4:\n",
    "        log_size = True\n",
    "    else:\n",
    "        log_size = False\n",
    "    if len(times) > 0 and max(times) / min(times) > 4:\n",
    "        log_time = True\n",
    "    else:\n",
    "        log_time = False\n",
    "    return log_time, log_size\n",
    "\n",
    "\n",
    "def plot_from_yaml(yaml_filename):\n",
    "    graph = demes.load(yaml_filename)\n",
    "    log_time, log_size = choose_scales(graph)\n",
    "\n",
    "    ax1 = demesdraw.size_history(\n",
    "        graph,\n",
    "        invert_x=True,\n",
    "        log_time=log_time,\n",
    "        log_size=log_size,\n",
    "        title=example.name,\n",
    "    )\n",
    "\n",
    "    ax2 = demesdraw.tubes(\n",
    "        graph,\n",
    "        log_time=log_time,\n",
    "        title=example.name,\n",
    "    )\n",
    "\n",
    "    plt.show(ax1.figure)\n",
    "    plt.show(ax2.figure)\n",
    "    \n",
    "    plt.close(ax1.figure)\n",
    "    plt.close(ax2.figure)\n",
    "    print(\"\\n\\n\")\n",
    "\n",
    "    \n",
    "# Plot each example yaml in the examples folder.\n",
    "cwd = pathlib.Path(\".\").parent.resolve()\n",
    "examples = list((cwd / \"..\" / \"examples\").glob(\"**/*.yaml\"))\n",
    "for example in sorted(examples):\n",
    "    plot_from_yaml(example)"
   ]
  }
 ],
 "metadata": {
  "kernelspec": {
   "display_name": "Python 3",
   "language": "python",
   "name": "python3"
  },
  "language_info": {
   "codemirror_mode": {
    "name": "ipython",
    "version": 3
   },
   "file_extension": ".py",
   "mimetype": "text/x-python",
   "name": "python",
   "nbconvert_exporter": "python",
   "pygments_lexer": "ipython3",
   "version": "3.9.2"
  }
 },
 "nbformat": 4,
 "nbformat_minor": 4
}
