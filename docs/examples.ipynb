{
 "cells": [
  {
   "cell_type": "markdown",
   "metadata": {},
   "source": [
    "# Examples"
   ]
  },
  {
   "cell_type": "code",
   "execution_count": null,
   "metadata": {
    "scrolled": false,
    "tags": [
     "hide-input"
    ]
   },
   "outputs": [],
   "source": [
    "import math\n",
    "import pathlib\n",
    "import warnings\n",
    "\n",
    "import demes\n",
    "import demesdraw\n",
    "import demesdraw.utils\n",
    "import matplotlib.pyplot as plt\n",
    "\n",
    "# Output SVG.\n",
    "from matplotlib_inline.backend_inline import set_matplotlib_formats\n",
    "set_matplotlib_formats(\"svg\")\n",
    "\n",
    "\n",
    "# Ignore warnings about simultaneous pulses in our examples.\n",
    "warnings.filterwarnings(\"ignore\", \"Multiple pulses\", UserWarning, \"demes\")\n",
    "\n",
    "\n",
    "def plot_from_yaml(yaml_filename):\n",
    "    graph = demes.load(yaml_filename)\n",
    "    log_time = demesdraw.utils.log_time_heuristic(graph)\n",
    "    log_size = demesdraw.utils.log_size_heuristic(graph)\n",
    "\n",
    "    ax1 = demesdraw.size_history(\n",
    "        graph,\n",
    "        invert_x=True,\n",
    "        log_time=log_time,\n",
    "        log_size=log_size,\n",
    "        title=example.name,\n",
    "    )\n",
    "\n",
    "    ax2 = demesdraw.tubes(\n",
    "        graph,\n",
    "        log_time=log_time,\n",
    "        title=example.name,\n",
    "    )\n",
    "\n",
    "    plt.show(ax1.figure)\n",
    "    plt.show(ax2.figure)\n",
    "    \n",
    "    plt.close(ax1.figure)\n",
    "    plt.close(ax2.figure)\n",
    "    print(\"\\n\\n\")\n",
    "\n",
    "    \n",
    "# Plot each example yaml in the examples folder.\n",
    "cwd = pathlib.Path(\".\").parent.resolve()\n",
    "examples = list((cwd / \"..\" / \"examples\").glob(\"**/*.yaml\"))\n",
    "for example in sorted(examples):\n",
    "    plot_from_yaml(example)"
   ]
  }
 ],
 "metadata": {
  "kernelspec": {
   "display_name": "Python 3",
   "language": "python",
   "name": "python3"
  },
  "language_info": {
   "codemirror_mode": {
    "name": "ipython",
    "version": 3
   },
   "file_extension": ".py",
   "mimetype": "text/x-python",
   "name": "python",
   "nbconvert_exporter": "python",
   "pygments_lexer": "ipython3",
   "version": "3.9.6"
  }
 },
 "nbformat": 4,
 "nbformat_minor": 4
}
